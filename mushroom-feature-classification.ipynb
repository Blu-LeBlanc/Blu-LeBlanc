{
 "cells": [
  {
   "cell_type": "code",
   "execution_count": 1,
   "id": "0801a923",
   "metadata": {
    "_cell_guid": "b1076dfc-b9ad-4769-8c92-a6c4dae69d19",
    "_uuid": "8f2839f25d086af736a60e9eeb907d3b93b6e0e5",
    "execution": {
     "iopub.execute_input": "2025-03-02T01:48:33.685333Z",
     "iopub.status.busy": "2025-03-02T01:48:33.684838Z",
     "iopub.status.idle": "2025-03-02T01:48:34.634792Z",
     "shell.execute_reply": "2025-03-02T01:48:34.633740Z"
    },
    "papermill": {
     "duration": 0.961667,
     "end_time": "2025-03-02T01:48:34.636777",
     "exception": false,
     "start_time": "2025-03-02T01:48:33.675110",
     "status": "completed"
    },
    "tags": []
   },
   "outputs": [],
   "source": [
    "# This Python 3 environment comes with many helpful analytics libraries installed\n",
    "# It is defined by the kaggle/python Docker image: https://github.com/kaggle/docker-python\n",
    "# For example, here's several helpful packages to load\n",
    "\n",
    "import numpy as np # linear algebra\n",
    "import pandas as pd # data processing, CSV file I/O (e.g. pd.read_csv)\n",
    "\n",
    "# Input data files are available in the read-only \"../input/\" directory\n",
    "# For example, running this (by clicking run or pressing Shift+Enter) will list all files under the input directory\n",
    "\n",
    "import os\n",
    "for dirname, _, filenames in os.walk('/kaggle/input/mushroom-classification/mushrooms.csv'):\n",
    "    for filename in filenames:\n",
    "        print(os.path.join(dirname, filename))\n",
    "\n",
    "# You can write up to 20GB to the current directory (/kaggle/working/) that gets preserved as output when you create a version using \"Save & Run All\" \n",
    "# You can also write temporary files to /kaggle/temp/, but they won't be saved outside of the current session"
   ]
  },
  {
   "cell_type": "markdown",
   "id": "86e5de63",
   "metadata": {
    "papermill": {
     "duration": 0.007254,
     "end_time": "2025-03-02T01:48:34.652131",
     "exception": false,
     "start_time": "2025-03-02T01:48:34.644877",
     "status": "completed"
    },
    "tags": []
   },
   "source": [
    "# Blu Leblanc\n",
    "# Introduction to Machine Learning: Supervised Learning\n",
    "# Final Project"
   ]
  },
  {
   "cell_type": "markdown",
   "id": "63de0118",
   "metadata": {
    "papermill": {
     "duration": 0.007605,
     "end_time": "2025-03-02T01:48:34.667207",
     "exception": false,
     "start_time": "2025-03-02T01:48:34.659602",
     "status": "completed"
    },
    "tags": []
   },
   "source": [
    "Mushroom hunting, commonly referred to as \"shrooming\" is a popular activity involving the search for edible mushroom species. However, a significant challenge arises from the fact that while some mushrooms are safe to consume, others are highly toxic and pose serious helth risks. Therefore, accurately classifying mushrooms based on their characteristics is crucial.\n",
    "This project focuses on practicing supervised classification techniques to distinguish between edible and poisonous mushrooms. The objective is to compare various classification models and evaluate their effectiveness. Additionally, the project examines different feature selection techniques to identify the most important characteristics for accurate classification. The findings will provide insights into the most relevant attributes for distinguishing between safe and toxic mushroom species."
   ]
  },
  {
   "cell_type": "markdown",
   "id": "1f9e5b06",
   "metadata": {
    "papermill": {
     "duration": 0.007179,
     "end_time": "2025-03-02T01:48:34.682079",
     "exception": false,
     "start_time": "2025-03-02T01:48:34.674900",
     "status": "completed"
    },
    "tags": []
   },
   "source": [
    "# Dataset"
   ]
  },
  {
   "cell_type": "markdown",
   "id": "ed52cbed",
   "metadata": {
    "papermill": {
     "duration": 0.007185,
     "end_time": "2025-03-02T01:48:34.696772",
     "exception": false,
     "start_time": "2025-03-02T01:48:34.689587",
     "status": "completed"
    },
    "tags": []
   },
   "source": [
    "I found a public source dataset on kaggle consisting of descriptions of hypothetical samples of 23 different species of mushrooms. Each mushroom is designated as edible or poisonous, and there are accompanying features for each mushroom. The dataset was original located at the UCI Machine Learning repository. There are 23 columns and 8124 entries.\n",
    "\n",
    "UCI Machine Learning (2017). Mushroom Classification[Data Set]. Kaggle"
   ]
  },
  {
   "cell_type": "markdown",
   "id": "a7745115",
   "metadata": {
    "papermill": {
     "duration": 0.007181,
     "end_time": "2025-03-02T01:48:34.711334",
     "exception": false,
     "start_time": "2025-03-02T01:48:34.704153",
     "status": "completed"
    },
    "tags": []
   },
   "source": [
    "# Data Loading"
   ]
  },
  {
   "cell_type": "markdown",
   "id": "810d5442",
   "metadata": {
    "papermill": {
     "duration": 0.007332,
     "end_time": "2025-03-02T01:48:34.726129",
     "exception": false,
     "start_time": "2025-03-02T01:48:34.718797",
     "status": "completed"
    },
    "tags": []
   },
   "source": [
    "First let's import the necessary libraries."
   ]
  },
  {
   "cell_type": "code",
   "execution_count": 2,
   "id": "49721cac",
   "metadata": {
    "execution": {
     "iopub.execute_input": "2025-03-02T01:48:34.742362Z",
     "iopub.status.busy": "2025-03-02T01:48:34.741838Z",
     "iopub.status.idle": "2025-03-02T01:48:37.174282Z",
     "shell.execute_reply": "2025-03-02T01:48:37.173303Z"
    },
    "papermill": {
     "duration": 2.442789,
     "end_time": "2025-03-02T01:48:37.176212",
     "exception": false,
     "start_time": "2025-03-02T01:48:34.733423",
     "status": "completed"
    },
    "tags": []
   },
   "outputs": [],
   "source": [
    "import numpy as np\n",
    "import pandas as pd\n",
    "import matplotlib.pyplot as plt\n",
    "from sklearn.model_selection import train_test_split\n",
    "from sklearn.metrics import mean_squared_error\n",
    "from sklearn.preprocessing import LabelEncoder\n",
    "from sklearn.feature_selection import chi2\n",
    "import seaborn as sns\n",
    "import xgboost as xgb\n",
    "from xgboost import plot_importance"
   ]
  },
  {
   "cell_type": "markdown",
   "id": "c9b201df",
   "metadata": {
    "papermill": {
     "duration": 0.007251,
     "end_time": "2025-03-02T01:48:37.191170",
     "exception": false,
     "start_time": "2025-03-02T01:48:37.183919",
     "status": "completed"
    },
    "tags": []
   },
   "source": [
    "Let's read in the dataset and gain an understanding of the data."
   ]
  },
  {
   "cell_type": "code",
   "execution_count": 3,
   "id": "f778757b",
   "metadata": {
    "execution": {
     "iopub.execute_input": "2025-03-02T01:48:37.207709Z",
     "iopub.status.busy": "2025-03-02T01:48:37.207154Z",
     "iopub.status.idle": "2025-03-02T01:48:37.276068Z",
     "shell.execute_reply": "2025-03-02T01:48:37.274967Z"
    },
    "papermill": {
     "duration": 0.079269,
     "end_time": "2025-03-02T01:48:37.277903",
     "exception": false,
     "start_time": "2025-03-02T01:48:37.198634",
     "status": "completed"
    },
    "tags": []
   },
   "outputs": [
    {
     "data": {
      "text/html": [
       "<div>\n",
       "<style scoped>\n",
       "    .dataframe tbody tr th:only-of-type {\n",
       "        vertical-align: middle;\n",
       "    }\n",
       "\n",
       "    .dataframe tbody tr th {\n",
       "        vertical-align: top;\n",
       "    }\n",
       "\n",
       "    .dataframe thead th {\n",
       "        text-align: right;\n",
       "    }\n",
       "</style>\n",
       "<table border=\"1\" class=\"dataframe\">\n",
       "  <thead>\n",
       "    <tr style=\"text-align: right;\">\n",
       "      <th></th>\n",
       "      <th>class</th>\n",
       "      <th>cap-shape</th>\n",
       "      <th>cap-surface</th>\n",
       "      <th>cap-color</th>\n",
       "      <th>bruises</th>\n",
       "      <th>odor</th>\n",
       "      <th>gill-attachment</th>\n",
       "      <th>gill-spacing</th>\n",
       "      <th>gill-size</th>\n",
       "      <th>gill-color</th>\n",
       "      <th>...</th>\n",
       "      <th>stalk-surface-below-ring</th>\n",
       "      <th>stalk-color-above-ring</th>\n",
       "      <th>stalk-color-below-ring</th>\n",
       "      <th>veil-type</th>\n",
       "      <th>veil-color</th>\n",
       "      <th>ring-number</th>\n",
       "      <th>ring-type</th>\n",
       "      <th>spore-print-color</th>\n",
       "      <th>population</th>\n",
       "      <th>habitat</th>\n",
       "    </tr>\n",
       "  </thead>\n",
       "  <tbody>\n",
       "    <tr>\n",
       "      <th>0</th>\n",
       "      <td>p</td>\n",
       "      <td>x</td>\n",
       "      <td>s</td>\n",
       "      <td>n</td>\n",
       "      <td>t</td>\n",
       "      <td>p</td>\n",
       "      <td>f</td>\n",
       "      <td>c</td>\n",
       "      <td>n</td>\n",
       "      <td>k</td>\n",
       "      <td>...</td>\n",
       "      <td>s</td>\n",
       "      <td>w</td>\n",
       "      <td>w</td>\n",
       "      <td>p</td>\n",
       "      <td>w</td>\n",
       "      <td>o</td>\n",
       "      <td>p</td>\n",
       "      <td>k</td>\n",
       "      <td>s</td>\n",
       "      <td>u</td>\n",
       "    </tr>\n",
       "    <tr>\n",
       "      <th>1</th>\n",
       "      <td>e</td>\n",
       "      <td>x</td>\n",
       "      <td>s</td>\n",
       "      <td>y</td>\n",
       "      <td>t</td>\n",
       "      <td>a</td>\n",
       "      <td>f</td>\n",
       "      <td>c</td>\n",
       "      <td>b</td>\n",
       "      <td>k</td>\n",
       "      <td>...</td>\n",
       "      <td>s</td>\n",
       "      <td>w</td>\n",
       "      <td>w</td>\n",
       "      <td>p</td>\n",
       "      <td>w</td>\n",
       "      <td>o</td>\n",
       "      <td>p</td>\n",
       "      <td>n</td>\n",
       "      <td>n</td>\n",
       "      <td>g</td>\n",
       "    </tr>\n",
       "    <tr>\n",
       "      <th>2</th>\n",
       "      <td>e</td>\n",
       "      <td>b</td>\n",
       "      <td>s</td>\n",
       "      <td>w</td>\n",
       "      <td>t</td>\n",
       "      <td>l</td>\n",
       "      <td>f</td>\n",
       "      <td>c</td>\n",
       "      <td>b</td>\n",
       "      <td>n</td>\n",
       "      <td>...</td>\n",
       "      <td>s</td>\n",
       "      <td>w</td>\n",
       "      <td>w</td>\n",
       "      <td>p</td>\n",
       "      <td>w</td>\n",
       "      <td>o</td>\n",
       "      <td>p</td>\n",
       "      <td>n</td>\n",
       "      <td>n</td>\n",
       "      <td>m</td>\n",
       "    </tr>\n",
       "    <tr>\n",
       "      <th>3</th>\n",
       "      <td>p</td>\n",
       "      <td>x</td>\n",
       "      <td>y</td>\n",
       "      <td>w</td>\n",
       "      <td>t</td>\n",
       "      <td>p</td>\n",
       "      <td>f</td>\n",
       "      <td>c</td>\n",
       "      <td>n</td>\n",
       "      <td>n</td>\n",
       "      <td>...</td>\n",
       "      <td>s</td>\n",
       "      <td>w</td>\n",
       "      <td>w</td>\n",
       "      <td>p</td>\n",
       "      <td>w</td>\n",
       "      <td>o</td>\n",
       "      <td>p</td>\n",
       "      <td>k</td>\n",
       "      <td>s</td>\n",
       "      <td>u</td>\n",
       "    </tr>\n",
       "    <tr>\n",
       "      <th>4</th>\n",
       "      <td>e</td>\n",
       "      <td>x</td>\n",
       "      <td>s</td>\n",
       "      <td>g</td>\n",
       "      <td>f</td>\n",
       "      <td>n</td>\n",
       "      <td>f</td>\n",
       "      <td>w</td>\n",
       "      <td>b</td>\n",
       "      <td>k</td>\n",
       "      <td>...</td>\n",
       "      <td>s</td>\n",
       "      <td>w</td>\n",
       "      <td>w</td>\n",
       "      <td>p</td>\n",
       "      <td>w</td>\n",
       "      <td>o</td>\n",
       "      <td>e</td>\n",
       "      <td>n</td>\n",
       "      <td>a</td>\n",
       "      <td>g</td>\n",
       "    </tr>\n",
       "  </tbody>\n",
       "</table>\n",
       "<p>5 rows × 23 columns</p>\n",
       "</div>"
      ],
      "text/plain": [
       "  class cap-shape cap-surface cap-color bruises odor gill-attachment  \\\n",
       "0     p         x           s         n       t    p               f   \n",
       "1     e         x           s         y       t    a               f   \n",
       "2     e         b           s         w       t    l               f   \n",
       "3     p         x           y         w       t    p               f   \n",
       "4     e         x           s         g       f    n               f   \n",
       "\n",
       "  gill-spacing gill-size gill-color  ... stalk-surface-below-ring  \\\n",
       "0            c         n          k  ...                        s   \n",
       "1            c         b          k  ...                        s   \n",
       "2            c         b          n  ...                        s   \n",
       "3            c         n          n  ...                        s   \n",
       "4            w         b          k  ...                        s   \n",
       "\n",
       "  stalk-color-above-ring stalk-color-below-ring veil-type veil-color  \\\n",
       "0                      w                      w         p          w   \n",
       "1                      w                      w         p          w   \n",
       "2                      w                      w         p          w   \n",
       "3                      w                      w         p          w   \n",
       "4                      w                      w         p          w   \n",
       "\n",
       "  ring-number ring-type spore-print-color population habitat  \n",
       "0           o         p                 k          s       u  \n",
       "1           o         p                 n          n       g  \n",
       "2           o         p                 n          n       m  \n",
       "3           o         p                 k          s       u  \n",
       "4           o         e                 n          a       g  \n",
       "\n",
       "[5 rows x 23 columns]"
      ]
     },
     "execution_count": 3,
     "metadata": {},
     "output_type": "execute_result"
    }
   ],
   "source": [
    "df = pd.read_csv('/kaggle/input/mushroom-classification/mushrooms.csv')\n",
    "df.head()"
   ]
  },
  {
   "cell_type": "code",
   "execution_count": 4,
   "id": "673c2985",
   "metadata": {
    "execution": {
     "iopub.execute_input": "2025-03-02T01:48:37.295232Z",
     "iopub.status.busy": "2025-03-02T01:48:37.294816Z",
     "iopub.status.idle": "2025-03-02T01:48:37.330365Z",
     "shell.execute_reply": "2025-03-02T01:48:37.329109Z"
    },
    "papermill": {
     "duration": 0.046187,
     "end_time": "2025-03-02T01:48:37.332126",
     "exception": false,
     "start_time": "2025-03-02T01:48:37.285939",
     "status": "completed"
    },
    "tags": []
   },
   "outputs": [
    {
     "name": "stdout",
     "output_type": "stream",
     "text": [
      "<class 'pandas.core.frame.DataFrame'>\n",
      "RangeIndex: 8124 entries, 0 to 8123\n",
      "Data columns (total 23 columns):\n",
      " #   Column                    Non-Null Count  Dtype \n",
      "---  ------                    --------------  ----- \n",
      " 0   class                     8124 non-null   object\n",
      " 1   cap-shape                 8124 non-null   object\n",
      " 2   cap-surface               8124 non-null   object\n",
      " 3   cap-color                 8124 non-null   object\n",
      " 4   bruises                   8124 non-null   object\n",
      " 5   odor                      8124 non-null   object\n",
      " 6   gill-attachment           8124 non-null   object\n",
      " 7   gill-spacing              8124 non-null   object\n",
      " 8   gill-size                 8124 non-null   object\n",
      " 9   gill-color                8124 non-null   object\n",
      " 10  stalk-shape               8124 non-null   object\n",
      " 11  stalk-root                8124 non-null   object\n",
      " 12  stalk-surface-above-ring  8124 non-null   object\n",
      " 13  stalk-surface-below-ring  8124 non-null   object\n",
      " 14  stalk-color-above-ring    8124 non-null   object\n",
      " 15  stalk-color-below-ring    8124 non-null   object\n",
      " 16  veil-type                 8124 non-null   object\n",
      " 17  veil-color                8124 non-null   object\n",
      " 18  ring-number               8124 non-null   object\n",
      " 19  ring-type                 8124 non-null   object\n",
      " 20  spore-print-color         8124 non-null   object\n",
      " 21  population                8124 non-null   object\n",
      " 22  habitat                   8124 non-null   object\n",
      "dtypes: object(23)\n",
      "memory usage: 1.4+ MB\n"
     ]
    }
   ],
   "source": [
    "df.info()"
   ]
  },
  {
   "cell_type": "markdown",
   "id": "53306522",
   "metadata": {
    "papermill": {
     "duration": 0.007641,
     "end_time": "2025-03-02T01:48:37.347784",
     "exception": false,
     "start_time": "2025-03-02T01:48:37.340143",
     "status": "completed"
    },
    "tags": []
   },
   "source": [
    "The class column designates if the mushroom is edible (e) or poisonous (p). The other 22 columns are categorical variables that describe characteristics of mushrooms. The datacard explains the abbrebviations for each column. Below is the attribute information copied from the datacard: "
   ]
  },
  {
   "cell_type": "markdown",
   "id": "7ece51b3",
   "metadata": {
    "papermill": {
     "duration": 0.007691,
     "end_time": "2025-03-02T01:48:37.363777",
     "exception": false,
     "start_time": "2025-03-02T01:48:37.356086",
     "status": "completed"
    },
    "tags": []
   },
   "source": [
    "Attribute Information: (classes: edible=e, poisonous=p)\n",
    "\n",
    "cap-shape: bell=b,conical=c,convex=x,flat=f, knobbed=k,sunken=s\n",
    "\n",
    "cap-surface: fibrous=f,grooves=g,scaly=y,smooth=s\n",
    "\n",
    "cap-color: brown=n,buff=b,cinnamon=c,gray=g,green=r,pink=p,purple=u,red=e,white=w,yellow=y\n",
    "\n",
    "bruises: bruises=t,no=f\n",
    "\n",
    "odor: almond=a,anise=l,creosote=c,fishy=y,foul=f,musty=m,none=n,pungent=p,spicy=s\n",
    "\n",
    "gill-attachment: attached=a,descending=d,free=f,notched=n\n",
    "\n",
    "gill-spacing: close=c,crowded=w,distant=d\n",
    "\n",
    "gill-size: broad=b,narrow=n\n",
    "\n",
    "gill-color: black=k,brown=n,buff=b,chocolate=h,gray=g, green=r,orange=o,pink=p,purple=u,red=e,white=w,yellow=y\n",
    "\n",
    "stalk-shape: enlarging=e,tapering=t\n",
    "\n",
    "stalk-root: bulbous=b,club=c,cup=u,equal=e,rhizomorphs=z,rooted=r,missing=?\n",
    "\n",
    "stalk-surface-above-ring: fibrous=f,scaly=y,silky=k,smooth=s\n",
    "\n",
    "stalk-surface-below-ring: fibrous=f,scaly=y,silky=k,smooth=s\n",
    "\n",
    "stalk-color-above-ring: brown=n,buff=b,cinnamon=c,gray=g,orange=o,pink=p,red=e,white=w,yellow=y\n",
    "\n",
    "stalk-color-below-ring: brown=n,buff=b,cinnamon=c,gray=g,orange=o,pink=p,red=e,white=w,yellow=y\n",
    "\n",
    "veil-type: partial=p,universal=u\n",
    "\n",
    "veil-color: brown=n,orange=o,white=w,yellow=y\n",
    "\n",
    "ring-number: none=n,one=o,two=t\n",
    "\n",
    "ring-type: cobwebby=c,evanescent=e,flaring=f,large=l,none=n,pendant=p,sheathing=s,zone=z\n",
    "\n",
    "spore-print-color: black=k,brown=n,buff=b,chocolate=h,green=r,orange=o,purple=u,white=w,yellow=y\n",
    "\n",
    "population: abundant=a,clustered=c,numerous=n,scattered=s,several=v,solitary=y\n",
    "\n",
    "habitat: grasses=g,leaves=l,meadows=m,paths=p,urban=u,waste=w,woods=d"
   ]
  },
  {
   "cell_type": "markdown",
   "id": "d60fc489",
   "metadata": {
    "papermill": {
     "duration": 0.007523,
     "end_time": "2025-03-02T01:48:37.379233",
     "exception": false,
     "start_time": "2025-03-02T01:48:37.371710",
     "status": "completed"
    },
    "tags": []
   },
   "source": [
    "# Explorative Data Analysis"
   ]
  },
  {
   "cell_type": "markdown",
   "id": "2cbe01a3",
   "metadata": {
    "papermill": {
     "duration": 0.007497,
     "end_time": "2025-03-02T01:48:37.394915",
     "exception": false,
     "start_time": "2025-03-02T01:48:37.387418",
     "status": "completed"
    },
    "tags": []
   },
   "source": [
    "First I will look at the distribution of our target variable (class) to determine if it is fit for modeling."
   ]
  },
  {
   "cell_type": "code",
   "execution_count": 5,
   "id": "a405b25d",
   "metadata": {
    "execution": {
     "iopub.execute_input": "2025-03-02T01:48:37.412017Z",
     "iopub.status.busy": "2025-03-02T01:48:37.411660Z",
     "iopub.status.idle": "2025-03-02T01:48:37.673867Z",
     "shell.execute_reply": "2025-03-02T01:48:37.672533Z"
    },
    "papermill": {
     "duration": 0.272679,
     "end_time": "2025-03-02T01:48:37.675449",
     "exception": false,
     "start_time": "2025-03-02T01:48:37.402770",
     "status": "completed"
    },
    "tags": []
   },
   "outputs": [
    {
     "data": {
      "image/png": "[encoded data removed]",
      "text/plain": [
       "<Figure size 600x400 with 1 Axes>"
      ]
     },
     "metadata": {},
     "output_type": "display_data"
    },
    {
     "name": "stdout",
     "output_type": "stream",
     "text": [
      "Class Distribution\n",
      "class\n",
      "e    51.797144\n",
      "p    48.202856\n",
      "Name: proportion, dtype: float64\n"
     ]
    }
   ],
   "source": [
    "#distribution of the target variable\n",
    "\n",
    "plt.figure(figsize = (6, 4))\n",
    "sns.countplot(x = df[\"class\"], palette = [\"green\", \"red\"])\n",
    "plt.title(\"Edible vs Poisonous Mushrooms\")\n",
    "plt.xlabel(\"e: Edible, p: Poisonous\")\n",
    "plt.ylabel(\"Count\")\n",
    "plt.show()\n",
    "\n",
    "class_count = df[\"class\"].value_counts(normalize = True) * 100\n",
    "print(\"Class Distribution\")\n",
    "print(class_count)\n"
   ]
  },
  {
   "cell_type": "markdown",
   "id": "5dd7dcd3",
   "metadata": {
    "papermill": {
     "duration": 0.008078,
     "end_time": "2025-03-02T01:48:37.692046",
     "exception": false,
     "start_time": "2025-03-02T01:48:37.683968",
     "status": "completed"
    },
    "tags": []
   },
   "source": [
    "The dataset is fairly balanced with good amount of edible and poisonous mushrooms. I need to check the dataset and make sure there are no missing values."
   ]
  },
  {
   "cell_type": "code",
   "execution_count": 6,
   "id": "73b4afa9",
   "metadata": {
    "execution": {
     "iopub.execute_input": "2025-03-02T01:48:37.710083Z",
     "iopub.status.busy": "2025-03-02T01:48:37.709704Z",
     "iopub.status.idle": "2025-03-02T01:48:37.726316Z",
     "shell.execute_reply": "2025-03-02T01:48:37.725178Z"
    },
    "papermill": {
     "duration": 0.027592,
     "end_time": "2025-03-02T01:48:37.728014",
     "exception": false,
     "start_time": "2025-03-02T01:48:37.700422",
     "status": "completed"
    },
    "tags": []
   },
   "outputs": [
    {
     "name": "stdout",
     "output_type": "stream",
     "text": [
      "Series([], dtype: int64)\n"
     ]
    }
   ],
   "source": [
    "missing_values = df.isnull().sum()\n",
    "print(missing_values[missing_values > 0])"
   ]
  },
  {
   "cell_type": "markdown",
   "id": "a42a2c88",
   "metadata": {
    "papermill": {
     "duration": 0.008276,
     "end_time": "2025-03-02T01:48:37.745113",
     "exception": false,
     "start_time": "2025-03-02T01:48:37.736837",
     "status": "completed"
    },
    "tags": []
   },
   "source": [
    "There are no missing values, however the data card states that there are certain columns with \"?\" for missing values. I will find these instances and remove the column if there are too many missing values."
   ]
  },
  {
   "cell_type": "code",
   "execution_count": 7,
   "id": "e8155fce",
   "metadata": {
    "execution": {
     "iopub.execute_input": "2025-03-02T01:48:37.763550Z",
     "iopub.status.busy": "2025-03-02T01:48:37.763156Z",
     "iopub.status.idle": "2025-03-02T01:48:37.784779Z",
     "shell.execute_reply": "2025-03-02T01:48:37.783570Z"
    },
    "papermill": {
     "duration": 0.033145,
     "end_time": "2025-03-02T01:48:37.786836",
     "exception": false,
     "start_time": "2025-03-02T01:48:37.753691",
     "status": "completed"
    },
    "tags": []
   },
   "outputs": [
    {
     "name": "stdout",
     "output_type": "stream",
     "text": [
      "stalk-root    2480\n",
      "dtype: int64\n"
     ]
    }
   ],
   "source": [
    "question_mark_columns = (df == \"?\").sum()\n",
    "print(question_mark_columns[question_mark_columns > 0])"
   ]
  },
  {
   "cell_type": "markdown",
   "id": "28795511",
   "metadata": {
    "papermill": {
     "duration": 0.008207,
     "end_time": "2025-03-02T01:48:37.803931",
     "exception": false,
     "start_time": "2025-03-02T01:48:37.795724",
     "status": "completed"
    },
    "tags": []
   },
   "source": [
    "The stalk-root column has a large amount of question marks. I will remove this feature. Additionally viewing the dataset: I found that veil-type has one value so I will drop it. There are some features with 2 unique values and some with many unique values."
   ]
  },
  {
   "cell_type": "code",
   "execution_count": 8,
   "id": "19e0fc3c",
   "metadata": {
    "execution": {
     "iopub.execute_input": "2025-03-02T01:48:37.822404Z",
     "iopub.status.busy": "2025-03-02T01:48:37.822050Z",
     "iopub.status.idle": "2025-03-02T01:48:37.847025Z",
     "shell.execute_reply": "2025-03-02T01:48:37.845777Z"
    },
    "papermill": {
     "duration": 0.036309,
     "end_time": "2025-03-02T01:48:37.848822",
     "exception": false,
     "start_time": "2025-03-02T01:48:37.812513",
     "status": "completed"
    },
    "tags": []
   },
   "outputs": [
    {
     "name": "stdout",
     "output_type": "stream",
     "text": [
      "<class 'pandas.core.frame.DataFrame'>\n",
      "RangeIndex: 8124 entries, 0 to 8123\n",
      "Data columns (total 21 columns):\n",
      " #   Column                    Non-Null Count  Dtype \n",
      "---  ------                    --------------  ----- \n",
      " 0   class                     8124 non-null   object\n",
      " 1   cap-shape                 8124 non-null   object\n",
      " 2   cap-surface               8124 non-null   object\n",
      " 3   cap-color                 8124 non-null   object\n",
      " 4   bruises                   8124 non-null   object\n",
      " 5   odor                      8124 non-null   object\n",
      " 6   gill-attachment           8124 non-null   object\n",
      " 7   gill-spacing              8124 non-null   object\n",
      " 8   gill-size                 8124 non-null   object\n",
      " 9   gill-color                8124 non-null   object\n",
      " 10  stalk-shape               8124 non-null   object\n",
      " 11  stalk-surface-above-ring  8124 non-null   object\n",
      " 12  stalk-surface-below-ring  8124 non-null   object\n",
      " 13  stalk-color-above-ring    8124 non-null   object\n",
      " 14  stalk-color-below-ring    8124 non-null   object\n",
      " 15  veil-color                8124 non-null   object\n",
      " 16  ring-number               8124 non-null   object\n",
      " 17  ring-type                 8124 non-null   object\n",
      " 18  spore-print-color         8124 non-null   object\n",
      " 19  population                8124 non-null   object\n",
      " 20  habitat                   8124 non-null   object\n",
      "dtypes: object(21)\n",
      "memory usage: 1.3+ MB\n"
     ]
    }
   ],
   "source": [
    "df = df.drop('veil-type', axis = 1)\n",
    "df = df.drop('stalk-root', axis = 1)\n",
    "df.info()"
   ]
  },
  {
   "cell_type": "markdown",
   "id": "b2d7f446",
   "metadata": {
    "papermill": {
     "duration": 0.008306,
     "end_time": "2025-03-02T01:48:37.866009",
     "exception": false,
     "start_time": "2025-03-02T01:48:37.857703",
     "status": "completed"
    },
    "tags": []
   },
   "source": [
    "# Correlation Analysis"
   ]
  },
  {
   "cell_type": "markdown",
   "id": "10c05be6",
   "metadata": {
    "papermill": {
     "duration": 0.008412,
     "end_time": "2025-03-02T01:48:37.883124",
     "exception": false,
     "start_time": "2025-03-02T01:48:37.874712",
     "status": "completed"
    },
    "tags": []
   },
   "source": [
    "One technique for determing which features are most important is Chi-Square testing. I will use a Chi-Square Test to measure statistical dependence between categorical variables and the target class"
   ]
  },
  {
   "cell_type": "code",
   "execution_count": 9,
   "id": "b76dc076",
   "metadata": {
    "execution": {
     "iopub.execute_input": "2025-03-02T01:48:37.901523Z",
     "iopub.status.busy": "2025-03-02T01:48:37.901115Z",
     "iopub.status.idle": "2025-03-02T01:48:37.966127Z",
     "shell.execute_reply": "2025-03-02T01:48:37.964910Z"
    },
    "papermill": {
     "duration": 0.076747,
     "end_time": "2025-03-02T01:48:37.968519",
     "exception": false,
     "start_time": "2025-03-02T01:48:37.891772",
     "status": "completed"
    },
    "tags": []
   },
   "outputs": [
    {
     "name": "stdout",
     "output_type": "stream",
     "text": [
      "                     Feature  Chi-Square Score        p-value\n",
      "16                 ring-type       1950.610146   0.000000e+00\n",
      "7                  gill-size       1636.606833   0.000000e+00\n",
      "8                 gill-color       5957.764469   0.000000e+00\n",
      "3                    bruises       1194.277352  1.069037e-261\n",
      "6               gill-spacing        826.795274  8.061293e-182\n",
      "19                   habitat        751.309489  2.082916e-165\n",
      "17         spore-print-color        379.132729   1.922119e-84\n",
      "18                population        311.766736   9.002366e-70\n",
      "10  stalk-surface-above-ring        222.982400   2.022392e-50\n",
      "1                cap-surface        214.068544   1.779362e-48\n",
      "11  stalk-surface-below-ring        206.648180   7.398869e-47\n",
      "12    stalk-color-above-ring        119.792216   7.024638e-28\n",
      "13    stalk-color-below-ring        109.789410   1.089740e-25\n",
      "4                       odor         75.910163   2.968682e-18\n",
      "9                stalk-shape         36.594105   1.454709e-09\n",
      "15               ring-number         25.646335   4.100735e-07\n",
      "0                  cap-shape         17.508364   2.860465e-05\n",
      "2                  cap-color         11.511382   6.917135e-04\n",
      "14                veil-color          5.126826   2.355878e-02\n",
      "5            gill-attachment          3.505447   6.116734e-02\n"
     ]
    }
   ],
   "source": [
    "dfe = df.apply(LabelEncoder().fit_transform)\n",
    "\n",
    "#set target\n",
    "X = dfe.drop('class', axis = 1)\n",
    "y = dfe['class']\n",
    "\n",
    "chi, p = chi2(X, y)\n",
    "\n",
    "chi_square_result = pd.DataFrame({\"Feature\": X.columns,\n",
    "                   \"Chi-Square Score\": chi,\n",
    "                   \"p-value\": p}).sort_values(by = \"p-value\")\n",
    "print(chi_square_result)"
   ]
  },
  {
   "cell_type": "markdown",
   "id": "43d6fd48",
   "metadata": {
    "papermill": {
     "duration": 0.008649,
     "end_time": "2025-03-02T01:48:37.986787",
     "exception": false,
     "start_time": "2025-03-02T01:48:37.978138",
     "status": "completed"
    },
    "tags": []
   },
   "source": [
    "My initial observations are that ring-type, gill-color, and gill-size have very strong correlation with the target variable. On the other hand, veil-color and gill-attachment have significantly lower correlation.\n",
    "At first, I was going to remove certain columns with weaker correlation, but I decided against it. I realize now that removing features could be worse than keeping them, especially easy-to-see features like cap-color and cap-shape which have low correlation. Instead I will compare this feature selection with feature selection embedded in modeling techniques."
   ]
  },
  {
   "cell_type": "markdown",
   "id": "2dc408b0",
   "metadata": {
    "papermill": {
     "duration": 0.00865,
     "end_time": "2025-03-02T01:48:38.004244",
     "exception": false,
     "start_time": "2025-03-02T01:48:37.995594",
     "status": "completed"
    },
    "tags": []
   },
   "source": [
    "# Set up data for Modeling"
   ]
  },
  {
   "cell_type": "markdown",
   "id": "b18a0179",
   "metadata": {
    "papermill": {
     "duration": 0.008321,
     "end_time": "2025-03-02T01:48:38.021668",
     "exception": false,
     "start_time": "2025-03-02T01:48:38.013347",
     "status": "completed"
    },
    "tags": []
   },
   "source": [
    "Now we will encode the categorical variables for modeling. Then I will separate the data into training and testing sets for modeling. I will stick with an %80 %20 split."
   ]
  },
  {
   "cell_type": "code",
   "execution_count": 10,
   "id": "8e687e5f",
   "metadata": {
    "execution": {
     "iopub.execute_input": "2025-03-02T01:48:38.040560Z",
     "iopub.status.busy": "2025-03-02T01:48:38.040090Z",
     "iopub.status.idle": "2025-03-02T01:48:38.096634Z",
     "shell.execute_reply": "2025-03-02T01:48:38.095535Z"
    },
    "papermill": {
     "duration": 0.068225,
     "end_time": "2025-03-02T01:48:38.098684",
     "exception": false,
     "start_time": "2025-03-02T01:48:38.030459",
     "status": "completed"
    },
    "tags": []
   },
   "outputs": [],
   "source": [
    "label_encoders = {}\n",
    "for column in df.columns:\n",
    "    le = LabelEncoder()\n",
    "    df[column] = le.fit_transform(df[column])\n",
    "    label_encoders[column] = le\n",
    "\n",
    "X = df.drop(columns = [\"class\"])\n",
    "y = df[\"class\"]\n",
    "\n",
    "X_train, X_test, y_train, y_test = train_test_split(X, y, test_size=0.2, random_state=24)"
   ]
  },
  {
   "cell_type": "markdown",
   "id": "24ab1482",
   "metadata": {
    "papermill": {
     "duration": 0.008876,
     "end_time": "2025-03-02T01:48:38.116872",
     "exception": false,
     "start_time": "2025-03-02T01:48:38.107996",
     "status": "completed"
    },
    "tags": []
   },
   "source": [
    "The first model I wish to view is a Random Forest Classifier. I chose this model because it is very effective for simple classification for one target categorical variable."
   ]
  },
  {
   "cell_type": "code",
   "execution_count": 11,
   "id": "c0fddbfc",
   "metadata": {
    "execution": {
     "iopub.execute_input": "2025-03-02T01:48:38.136405Z",
     "iopub.status.busy": "2025-03-02T01:48:38.135945Z",
     "iopub.status.idle": "2025-03-02T01:48:38.712809Z",
     "shell.execute_reply": "2025-03-02T01:48:38.711723Z"
    },
    "papermill": {
     "duration": 0.588867,
     "end_time": "2025-03-02T01:48:38.714744",
     "exception": false,
     "start_time": "2025-03-02T01:48:38.125877",
     "status": "completed"
    },
    "tags": []
   },
   "outputs": [
    {
     "data": {
      "text/html": [
       "<style>#sk-container-id-1 {color: black;background-color: white;}#sk-container-id-1 pre{padding: 0;}#sk-container-id-1 div.sk-toggleable {background-color: white;}#sk-container-id-1 label.sk-toggleable__label {cursor: pointer;display: block;width: 100%;margin-bottom: 0;padding: 0.3em;box-sizing: border-box;text-align: center;}#sk-container-id-1 label.sk-toggleable__label-arrow:before {content: \"▸\";float: left;margin-right: 0.25em;color: #696969;}#sk-container-id-1 label.sk-toggleable__label-arrow:hover:before {color: black;}#sk-container-id-1 div.sk-estimator:hover label.sk-toggleable__label-arrow:before {color: black;}#sk-container-id-1 div.sk-toggleable__content {max-height: 0;max-width: 0;overflow: hidden;text-align: left;background-color: #f0f8ff;}#sk-container-id-1 div.sk-toggleable__content pre {margin: 0.2em;color: black;border-radius: 0.25em;background-color: #f0f8ff;}#sk-container-id-1 input.sk-toggleable__control:checked~div.sk-toggleable__content {max-height: 200px;max-width: 100%;overflow: auto;}#sk-container-id-1 input.sk-toggleable__control:checked~label.sk-toggleable__label-arrow:before {content: \"▾\";}#sk-container-id-1 div.sk-estimator input.sk-toggleable__control:checked~label.sk-toggleable__label {background-color: #d4ebff;}#sk-container-id-1 div.sk-label input.sk-toggleable__control:checked~label.sk-toggleable__label {background-color: #d4ebff;}#sk-container-id-1 input.sk-hidden--visually {border: 0;clip: rect(1px 1px 1px 1px);clip: rect(1px, 1px, 1px, 1px);height: 1px;margin: -1px;overflow: hidden;padding: 0;position: absolute;width: 1px;}#sk-container-id-1 div.sk-estimator {font-family: monospace;background-color: #f0f8ff;border: 1px dotted black;border-radius: 0.25em;box-sizing: border-box;margin-bottom: 0.5em;}#sk-container-id-1 div.sk-estimator:hover {background-color: #d4ebff;}#sk-container-id-1 div.sk-parallel-item::after {content: \"\";width: 100%;border-bottom: 1px solid gray;flex-grow: 1;}#sk-container-id-1 div.sk-label:hover label.sk-toggleable__label {background-color: #d4ebff;}#sk-container-id-1 div.sk-serial::before {content: \"\";position: absolute;border-left: 1px solid gray;box-sizing: border-box;top: 0;bottom: 0;left: 50%;z-index: 0;}#sk-container-id-1 div.sk-serial {display: flex;flex-direction: column;align-items: center;background-color: white;padding-right: 0.2em;padding-left: 0.2em;position: relative;}#sk-container-id-1 div.sk-item {position: relative;z-index: 1;}#sk-container-id-1 div.sk-parallel {display: flex;align-items: stretch;justify-content: center;background-color: white;position: relative;}#sk-container-id-1 div.sk-item::before, #sk-container-id-1 div.sk-parallel-item::before {content: \"\";position: absolute;border-left: 1px solid gray;box-sizing: border-box;top: 0;bottom: 0;left: 50%;z-index: -1;}#sk-container-id-1 div.sk-parallel-item {display: flex;flex-direction: column;z-index: 1;position: relative;background-color: white;}#sk-container-id-1 div.sk-parallel-item:first-child::after {align-self: flex-end;width: 50%;}#sk-container-id-1 div.sk-parallel-item:last-child::after {align-self: flex-start;width: 50%;}#sk-container-id-1 div.sk-parallel-item:only-child::after {width: 0;}#sk-container-id-1 div.sk-dashed-wrapped {border: 1px dashed gray;margin: 0 0.4em 0.5em 0.4em;box-sizing: border-box;padding-bottom: 0.4em;background-color: white;}#sk-container-id-1 div.sk-label label {font-family: monospace;font-weight: bold;display: inline-block;line-height: 1.2em;}#sk-container-id-1 div.sk-label-container {text-align: center;}#sk-container-id-1 div.sk-container {/* jupyter's `normalize.less` sets `[hidden] { display: none; }` but bootstrap.min.css set `[hidden] { display: none !important; }` so we also need the `!important` here to be able to override the default hidden behavior on the sphinx rendered scikit-learn.org. See: https://github.com/scikit-learn/scikit-learn/issues/21755 */display: inline-block !important;position: relative;}#sk-container-id-1 div.sk-text-repr-fallback {display: none;}</style><div id=\"sk-container-id-1\" class=\"sk-top-container\"><div class=\"sk-text-repr-fallback\"><pre>RandomForestClassifier(max_depth=5, random_state=24)</pre><b>In a Jupyter environment, please rerun this cell to show the HTML representation or trust the notebook. <br />On GitHub, the HTML representation is unable to render, please try loading this page with nbviewer.org.</b></div><div class=\"sk-container\" hidden><div class=\"sk-item\"><div class=\"sk-estimator sk-toggleable\"><input class=\"sk-toggleable__control sk-hidden--visually\" id=\"sk-estimator-id-1\" type=\"checkbox\" checked><label for=\"sk-estimator-id-1\" class=\"sk-toggleable__label sk-toggleable__label-arrow\">RandomForestClassifier</label><div class=\"sk-toggleable__content\"><pre>RandomForestClassifier(max_depth=5, random_state=24)</pre></div></div></div></div></div>"
      ],
      "text/plain": [
       "RandomForestClassifier(max_depth=5, random_state=24)"
      ]
     },
     "execution_count": 11,
     "metadata": {},
     "output_type": "execute_result"
    }
   ],
   "source": [
    "from sklearn.ensemble import RandomForestClassifier\n",
    "\n",
    "rtree = RandomForestClassifier(n_estimators = 100, max_depth=5, random_state = 24)\n",
    "rtree.fit(X_train, y_train)"
   ]
  },
  {
   "cell_type": "markdown",
   "id": "e60956f7",
   "metadata": {
    "papermill": {
     "duration": 0.009308,
     "end_time": "2025-03-02T01:48:38.733779",
     "exception": false,
     "start_time": "2025-03-02T01:48:38.724471",
     "status": "completed"
    },
    "tags": []
   },
   "source": [
    "I will evaluate each model based on accuracy score and classification report."
   ]
  },
  {
   "cell_type": "code",
   "execution_count": 12,
   "id": "3aaded73",
   "metadata": {
    "execution": {
     "iopub.execute_input": "2025-03-02T01:48:38.753839Z",
     "iopub.status.busy": "2025-03-02T01:48:38.753482Z",
     "iopub.status.idle": "2025-03-02T01:48:38.793366Z",
     "shell.execute_reply": "2025-03-02T01:48:38.792192Z"
    },
    "papermill": {
     "duration": 0.051694,
     "end_time": "2025-03-02T01:48:38.795314",
     "exception": false,
     "start_time": "2025-03-02T01:48:38.743620",
     "status": "completed"
    },
    "tags": []
   },
   "outputs": [
    {
     "name": "stdout",
     "output_type": "stream",
     "text": [
      "Model Accuracy:\n",
      " 0.9932307692307693\n",
      "Classification Report:\n",
      "               precision    recall  f1-score   support\n",
      "\n",
      "           0       0.99      1.00      0.99       869\n",
      "           1       1.00      0.99      0.99       756\n",
      "\n",
      "    accuracy                           0.99      1625\n",
      "   macro avg       0.99      0.99      0.99      1625\n",
      "weighted avg       0.99      0.99      0.99      1625\n",
      "\n",
      "Confusion Matrix:\n",
      " [[869   0]\n",
      " [ 11 745]]\n"
     ]
    }
   ],
   "source": [
    "from sklearn.metrics import accuracy_score, classification_report, confusion_matrix\n",
    "\n",
    "#Predictions\n",
    "y_pred = rtree.predict(X_test)\n",
    "\n",
    "#Evaluate Model\n",
    "accuracy = accuracy_score(y_test, y_pred)\n",
    "print(\"Model Accuracy:\\n\", accuracy)\n",
    "print(\"Classification Report:\\n\", classification_report(y_test, y_pred))\n",
    "print(\"Confusion Matrix:\\n\", confusion_matrix(y_test, y_pred))"
   ]
  },
  {
   "cell_type": "markdown",
   "id": "2276a526",
   "metadata": {
    "papermill": {
     "duration": 0.008846,
     "end_time": "2025-03-02T01:48:38.813639",
     "exception": false,
     "start_time": "2025-03-02T01:48:38.804793",
     "status": "completed"
    },
    "tags": []
   },
   "source": [
    "Let's incorporate feature selection to the model and create a bar graph to see the most important features as chosen by the Random Forest Classifier"
   ]
  },
  {
   "cell_type": "code",
   "execution_count": 13,
   "id": "3c0039fe",
   "metadata": {
    "execution": {
     "iopub.execute_input": "2025-03-02T01:48:38.833380Z",
     "iopub.status.busy": "2025-03-02T01:48:38.832933Z",
     "iopub.status.idle": "2025-03-02T01:48:39.215646Z",
     "shell.execute_reply": "2025-03-02T01:48:39.214538Z"
    },
    "papermill": {
     "duration": 0.394507,
     "end_time": "2025-03-02T01:48:39.217310",
     "exception": false,
     "start_time": "2025-03-02T01:48:38.822803",
     "status": "completed"
    },
    "tags": []
   },
   "outputs": [
    {
     "name": "stdout",
     "output_type": "stream",
     "text": [
      "                     Feature  Importance\n",
      "4                       odor    0.158026\n",
      "7                  gill-size    0.154156\n",
      "8                 gill-color    0.132698\n",
      "17         spore-print-color    0.090550\n",
      "16                 ring-type    0.077537\n",
      "10  stalk-surface-above-ring    0.070990\n",
      "11  stalk-surface-below-ring    0.063531\n",
      "18                population    0.056547\n",
      "6               gill-spacing    0.052785\n",
      "3                    bruises    0.035735\n",
      "12    stalk-color-above-ring    0.019487\n",
      "19                   habitat    0.019373\n",
      "9                stalk-shape    0.017827\n",
      "13    stalk-color-below-ring    0.015421\n",
      "2                  cap-color    0.011668\n",
      "15               ring-number    0.008697\n",
      "1                cap-surface    0.006759\n",
      "0                  cap-shape    0.003258\n",
      "5            gill-attachment    0.002544\n",
      "14                veil-color    0.002410\n"
     ]
    },
    {
     "data": {
      "image/png": "[encoded data removed]",
      "text/plain": [
       "<Figure size 1000x600 with 1 Axes>"
      ]
     },
     "metadata": {},
     "output_type": "display_data"
    }
   ],
   "source": [
    "rf_feature_importance_df = pd.DataFrame({'Feature': X_train.columns, 'Importance': rtree.feature_importances_})\n",
    "rf_feature_importance_df = rf_feature_importance_df.sort_values(by=\"Importance\", ascending=False)\n",
    "\n",
    "print(rf_feature_importance_df)\n",
    "\n",
    "plt.figure(figsize=(10,6))\n",
    "sns.barplot(x='Importance', y='Feature', data=rf_feature_importance_df, palette=\"viridis\")\n",
    "plt.xlabel(\"Feature Importance\")\n",
    "plt.ylabel(\"Features\")\n",
    "plt.title(\"Random Forest Feature Importance\")\n",
    "plt.show()"
   ]
  },
  {
   "cell_type": "markdown",
   "id": "c1a3d650",
   "metadata": {
    "papermill": {
     "duration": 0.010062,
     "end_time": "2025-03-02T01:48:39.237969",
     "exception": false,
     "start_time": "2025-03-02T01:48:39.227907",
     "status": "completed"
    },
    "tags": []
   },
   "source": [
    "The model accuracy seems incredibly high. To verify that my model is generalizing well, I will perform cross validation."
   ]
  },
  {
   "cell_type": "code",
   "execution_count": 14,
   "id": "38260cd2",
   "metadata": {
    "execution": {
     "iopub.execute_input": "2025-03-02T01:48:39.262380Z",
     "iopub.status.busy": "2025-03-02T01:48:39.261975Z",
     "iopub.status.idle": "2025-03-02T01:48:40.806328Z",
     "shell.execute_reply": "2025-03-02T01:48:40.804959Z"
    },
    "papermill": {
     "duration": 1.559704,
     "end_time": "2025-03-02T01:48:40.808215",
     "exception": false,
     "start_time": "2025-03-02T01:48:39.248511",
     "status": "completed"
    },
    "tags": []
   },
   "outputs": [
    {
     "name": "stdout",
     "output_type": "stream",
     "text": [
      "Cross-validation accuracy: 0.9904605909871499\n"
     ]
    }
   ],
   "source": [
    "from sklearn.model_selection import cross_val_score\n",
    "\n",
    "cv_scores = cross_val_score(rtree, X_train, y_train, cv=5, scoring='accuracy')\n",
    "print(\"Cross-validation accuracy:\", cv_scores.mean())"
   ]
  },
  {
   "cell_type": "markdown",
   "id": "690037ae",
   "metadata": {
    "papermill": {
     "duration": 0.010357,
     "end_time": "2025-03-02T01:48:40.829493",
     "exception": false,
     "start_time": "2025-03-02T01:48:40.819136",
     "status": "completed"
    },
    "tags": []
   },
   "source": [
    "I chose XGBoost Classifier as the second model to classify mushrooms. I will also perform feature selection and graph the result to compare to other feature selection methods."
   ]
  },
  {
   "cell_type": "code",
   "execution_count": 15,
   "id": "64a51150",
   "metadata": {
    "execution": {
     "iopub.execute_input": "2025-03-02T01:48:40.851913Z",
     "iopub.status.busy": "2025-03-02T01:48:40.851555Z",
     "iopub.status.idle": "2025-03-02T01:48:40.980995Z",
     "shell.execute_reply": "2025-03-02T01:48:40.979709Z"
    },
    "papermill": {
     "duration": 0.142875,
     "end_time": "2025-03-02T01:48:40.982903",
     "exception": false,
     "start_time": "2025-03-02T01:48:40.840028",
     "status": "completed"
    },
    "tags": []
   },
   "outputs": [
    {
     "data": {
      "text/html": [
       "<style>#sk-container-id-2 {color: black;background-color: white;}#sk-container-id-2 pre{padding: 0;}#sk-container-id-2 div.sk-toggleable {background-color: white;}#sk-container-id-2 label.sk-toggleable__label {cursor: pointer;display: block;width: 100%;margin-bottom: 0;padding: 0.3em;box-sizing: border-box;text-align: center;}#sk-container-id-2 label.sk-toggleable__label-arrow:before {content: \"▸\";float: left;margin-right: 0.25em;color: #696969;}#sk-container-id-2 label.sk-toggleable__label-arrow:hover:before {color: black;}#sk-container-id-2 div.sk-estimator:hover label.sk-toggleable__label-arrow:before {color: black;}#sk-container-id-2 div.sk-toggleable__content {max-height: 0;max-width: 0;overflow: hidden;text-align: left;background-color: #f0f8ff;}#sk-container-id-2 div.sk-toggleable__content pre {margin: 0.2em;color: black;border-radius: 0.25em;background-color: #f0f8ff;}#sk-container-id-2 input.sk-toggleable__control:checked~div.sk-toggleable__content {max-height: 200px;max-width: 100%;overflow: auto;}#sk-container-id-2 input.sk-toggleable__control:checked~label.sk-toggleable__label-arrow:before {content: \"▾\";}#sk-container-id-2 div.sk-estimator input.sk-toggleable__control:checked~label.sk-toggleable__label {background-color: #d4ebff;}#sk-container-id-2 div.sk-label input.sk-toggleable__control:checked~label.sk-toggleable__label {background-color: #d4ebff;}#sk-container-id-2 input.sk-hidden--visually {border: 0;clip: rect(1px 1px 1px 1px);clip: rect(1px, 1px, 1px, 1px);height: 1px;margin: -1px;overflow: hidden;padding: 0;position: absolute;width: 1px;}#sk-container-id-2 div.sk-estimator {font-family: monospace;background-color: #f0f8ff;border: 1px dotted black;border-radius: 0.25em;box-sizing: border-box;margin-bottom: 0.5em;}#sk-container-id-2 div.sk-estimator:hover {background-color: #d4ebff;}#sk-container-id-2 div.sk-parallel-item::after {content: \"\";width: 100%;border-bottom: 1px solid gray;flex-grow: 1;}#sk-container-id-2 div.sk-label:hover label.sk-toggleable__label {background-color: #d4ebff;}#sk-container-id-2 div.sk-serial::before {content: \"\";position: absolute;border-left: 1px solid gray;box-sizing: border-box;top: 0;bottom: 0;left: 50%;z-index: 0;}#sk-container-id-2 div.sk-serial {display: flex;flex-direction: column;align-items: center;background-color: white;padding-right: 0.2em;padding-left: 0.2em;position: relative;}#sk-container-id-2 div.sk-item {position: relative;z-index: 1;}#sk-container-id-2 div.sk-parallel {display: flex;align-items: stretch;justify-content: center;background-color: white;position: relative;}#sk-container-id-2 div.sk-item::before, #sk-container-id-2 div.sk-parallel-item::before {content: \"\";position: absolute;border-left: 1px solid gray;box-sizing: border-box;top: 0;bottom: 0;left: 50%;z-index: -1;}#sk-container-id-2 div.sk-parallel-item {display: flex;flex-direction: column;z-index: 1;position: relative;background-color: white;}#sk-container-id-2 div.sk-parallel-item:first-child::after {align-self: flex-end;width: 50%;}#sk-container-id-2 div.sk-parallel-item:last-child::after {align-self: flex-start;width: 50%;}#sk-container-id-2 div.sk-parallel-item:only-child::after {width: 0;}#sk-container-id-2 div.sk-dashed-wrapped {border: 1px dashed gray;margin: 0 0.4em 0.5em 0.4em;box-sizing: border-box;padding-bottom: 0.4em;background-color: white;}#sk-container-id-2 div.sk-label label {font-family: monospace;font-weight: bold;display: inline-block;line-height: 1.2em;}#sk-container-id-2 div.sk-label-container {text-align: center;}#sk-container-id-2 div.sk-container {/* jupyter's `normalize.less` sets `[hidden] { display: none; }` but bootstrap.min.css set `[hidden] { display: none !important; }` so we also need the `!important` here to be able to override the default hidden behavior on the sphinx rendered scikit-learn.org. See: https://github.com/scikit-learn/scikit-learn/issues/21755 */display: inline-block !important;position: relative;}#sk-container-id-2 div.sk-text-repr-fallback {display: none;}</style><div id=\"sk-container-id-2\" class=\"sk-top-container\"><div class=\"sk-text-repr-fallback\"><pre>XGBClassifier(base_score=None, booster=None, callbacks=None,\n",
       "              colsample_bylevel=None, colsample_bynode=None,\n",
       "              colsample_bytree=None, device=None, early_stopping_rounds=None,\n",
       "              enable_categorical=False, eval_metric=&#x27;mlogloss&#x27;,\n",
       "              feature_types=None, gamma=None, grow_policy=None,\n",
       "              importance_type=None, interaction_constraints=None,\n",
       "              learning_rate=0.1, max_bin=None, max_cat_threshold=None,\n",
       "              max_cat_to_onehot=None, max_delta_step=None, max_depth=5,\n",
       "              max_leaves=None, min_child_weight=None, missing=nan,\n",
       "              monotone_constraints=None, multi_strategy=None, n_estimators=100,\n",
       "              n_jobs=None, num_parallel_tree=None, random_state=24, ...)</pre><b>In a Jupyter environment, please rerun this cell to show the HTML representation or trust the notebook. <br />On GitHub, the HTML representation is unable to render, please try loading this page with nbviewer.org.</b></div><div class=\"sk-container\" hidden><div class=\"sk-item\"><div class=\"sk-estimator sk-toggleable\"><input class=\"sk-toggleable__control sk-hidden--visually\" id=\"sk-estimator-id-2\" type=\"checkbox\" checked><label for=\"sk-estimator-id-2\" class=\"sk-toggleable__label sk-toggleable__label-arrow\">XGBClassifier</label><div class=\"sk-toggleable__content\"><pre>XGBClassifier(base_score=None, booster=None, callbacks=None,\n",
       "              colsample_bylevel=None, colsample_bynode=None,\n",
       "              colsample_bytree=None, device=None, early_stopping_rounds=None,\n",
       "              enable_categorical=False, eval_metric=&#x27;mlogloss&#x27;,\n",
       "              feature_types=None, gamma=None, grow_policy=None,\n",
       "              importance_type=None, interaction_constraints=None,\n",
       "              learning_rate=0.1, max_bin=None, max_cat_threshold=None,\n",
       "              max_cat_to_onehot=None, max_delta_step=None, max_depth=5,\n",
       "              max_leaves=None, min_child_weight=None, missing=nan,\n",
       "              monotone_constraints=None, multi_strategy=None, n_estimators=100,\n",
       "              n_jobs=None, num_parallel_tree=None, random_state=24, ...)</pre></div></div></div></div></div>"
      ],
      "text/plain": [
       "XGBClassifier(base_score=None, booster=None, callbacks=None,\n",
       "              colsample_bylevel=None, colsample_bynode=None,\n",
       "              colsample_bytree=None, device=None, early_stopping_rounds=None,\n",
       "              enable_categorical=False, eval_metric='mlogloss',\n",
       "              feature_types=None, gamma=None, grow_policy=None,\n",
       "              importance_type=None, interaction_constraints=None,\n",
       "              learning_rate=0.1, max_bin=None, max_cat_threshold=None,\n",
       "              max_cat_to_onehot=None, max_delta_step=None, max_depth=5,\n",
       "              max_leaves=None, min_child_weight=None, missing=nan,\n",
       "              monotone_constraints=None, multi_strategy=None, n_estimators=100,\n",
       "              n_jobs=None, num_parallel_tree=None, random_state=24, ...)"
      ]
     },
     "execution_count": 15,
     "metadata": {},
     "output_type": "execute_result"
    }
   ],
   "source": [
    "xgb_c = xgb.XGBClassifier(\n",
    "    use_label_encoder=False,\n",
    "    eval_metric='mlogloss',\n",
    "    random_state=24,\n",
    "    max_depth=5,             \n",
    "    learning_rate=0.1,       \n",
    "    n_estimators=100)\n",
    "xgb_c.fit(X_train, y_train)\n",
    "\n"
   ]
  },
  {
   "cell_type": "code",
   "execution_count": 16,
   "id": "cbfb05ed",
   "metadata": {
    "execution": {
     "iopub.execute_input": "2025-03-02T01:48:41.006990Z",
     "iopub.status.busy": "2025-03-02T01:48:41.006613Z",
     "iopub.status.idle": "2025-03-02T01:48:41.035572Z",
     "shell.execute_reply": "2025-03-02T01:48:41.034275Z"
    },
    "papermill": {
     "duration": 0.042517,
     "end_time": "2025-03-02T01:48:41.037274",
     "exception": false,
     "start_time": "2025-03-02T01:48:40.994757",
     "status": "completed"
    },
    "tags": []
   },
   "outputs": [
    {
     "name": "stdout",
     "output_type": "stream",
     "text": [
      "Model Accuracy:\n",
      " 1.0\n",
      "Classification Report:\n",
      "               precision    recall  f1-score   support\n",
      "\n",
      "           0       1.00      1.00      1.00       869\n",
      "           1       1.00      1.00      1.00       756\n",
      "\n",
      "    accuracy                           1.00      1625\n",
      "   macro avg       1.00      1.00      1.00      1625\n",
      "weighted avg       1.00      1.00      1.00      1625\n",
      "\n",
      "Confusion Matrix:\n",
      " [[869   0]\n",
      " [  0 756]]\n"
     ]
    }
   ],
   "source": [
    "y_pred = xgb_c.predict(X_test)\n",
    "\n",
    "accuracy = accuracy_score(y_test, y_pred)\n",
    "print(\"Model Accuracy:\\n\", accuracy)\n",
    "print(\"Classification Report:\\n\", classification_report(y_test, y_pred))\n",
    "print(\"Confusion Matrix:\\n\", confusion_matrix(y_test, y_pred))"
   ]
  },
  {
   "cell_type": "markdown",
   "id": "1a86f58c",
   "metadata": {
    "papermill": {
     "duration": 0.010718,
     "end_time": "2025-03-02T01:48:41.059000",
     "exception": false,
     "start_time": "2025-03-02T01:48:41.048282",
     "status": "completed"
    },
    "tags": []
   },
   "source": [
    "This time my model accuracy is 100%. Either there is some mistake or mushrooms are very easy to classify given the characteristic data provided. I will perform cross validation and reshuffle the labels to verify that there isn't a mistake with the model."
   ]
  },
  {
   "cell_type": "code",
   "execution_count": 17,
   "id": "a2d0c07c",
   "metadata": {
    "execution": {
     "iopub.execute_input": "2025-03-02T01:48:41.082994Z",
     "iopub.status.busy": "2025-03-02T01:48:41.082618Z",
     "iopub.status.idle": "2025-03-02T01:48:41.528477Z",
     "shell.execute_reply": "2025-03-02T01:48:41.526927Z"
    },
    "papermill": {
     "duration": 0.460062,
     "end_time": "2025-03-02T01:48:41.530269",
     "exception": false,
     "start_time": "2025-03-02T01:48:41.070207",
     "status": "completed"
    },
    "tags": []
   },
   "outputs": [
    {
     "name": "stdout",
     "output_type": "stream",
     "text": [
      "Cross-validation Accuracy: 1.0\n"
     ]
    }
   ],
   "source": [
    "from sklearn.model_selection import cross_val_score\n",
    "\n",
    "cv_scores = cross_val_score(xgb_c, X_train, y_train, cv=5)\n",
    "print(\"Cross-validation Accuracy:\", cv_scores.mean())"
   ]
  },
  {
   "cell_type": "code",
   "execution_count": 18,
   "id": "91eb30f5",
   "metadata": {
    "execution": {
     "iopub.execute_input": "2025-03-02T01:48:41.553297Z",
     "iopub.status.busy": "2025-03-02T01:48:41.552918Z",
     "iopub.status.idle": "2025-03-02T01:48:41.656809Z",
     "shell.execute_reply": "2025-03-02T01:48:41.654359Z"
    },
    "papermill": {
     "duration": 0.117597,
     "end_time": "2025-03-02T01:48:41.658736",
     "exception": false,
     "start_time": "2025-03-02T01:48:41.541139",
     "status": "completed"
    },
    "tags": []
   },
   "outputs": [
    {
     "name": "stdout",
     "output_type": "stream",
     "text": [
      "Accuracy after shuffling labels: 0.552\n"
     ]
    }
   ],
   "source": [
    "y_train_shuffled = np.random.permutation(y_train)\n",
    "xgb_c.fit(X_train, y_train_shuffled)\n",
    "y_pred_shuffled = xgb_c.predict(X_test)\n",
    "\n",
    "print(\"Accuracy after shuffling labels:\", accuracy_score(y_test, y_pred_shuffled))"
   ]
  },
  {
   "cell_type": "markdown",
   "id": "4d31f428",
   "metadata": {
    "papermill": {
     "duration": 0.010509,
     "end_time": "2025-03-02T01:48:41.680380",
     "exception": false,
     "start_time": "2025-03-02T01:48:41.669871",
     "status": "completed"
    },
    "tags": []
   },
   "source": [
    "There doesn't seem to be an issue with the model overfitting. Now let us see the feature selection chosen by the XGBoost Classifier."
   ]
  },
  {
   "cell_type": "code",
   "execution_count": 19,
   "id": "3d8879bc",
   "metadata": {
    "execution": {
     "iopub.execute_input": "2025-03-02T01:48:41.703510Z",
     "iopub.status.busy": "2025-03-02T01:48:41.703103Z",
     "iopub.status.idle": "2025-03-02T01:48:42.066837Z",
     "shell.execute_reply": "2025-03-02T01:48:42.065584Z"
    },
    "papermill": {
     "duration": 0.377543,
     "end_time": "2025-03-02T01:48:42.068884",
     "exception": false,
     "start_time": "2025-03-02T01:48:41.691341",
     "status": "completed"
    },
    "tags": []
   },
   "outputs": [
    {
     "name": "stdout",
     "output_type": "stream",
     "text": [
      "                     Feature  Importance\n",
      "19                   habitat    1.705134\n",
      "10  stalk-surface-above-ring    1.697538\n",
      "4                       odor    1.616992\n",
      "9                stalk-shape    1.547058\n",
      "7                  gill-size    1.507595\n",
      "2                  cap-color    1.449989\n",
      "1                cap-surface    1.438254\n",
      "3                    bruises    1.434318\n",
      "18                population    1.370652\n",
      "11  stalk-surface-below-ring    1.365424\n",
      "15               ring-number    1.349627\n",
      "16                 ring-type    1.337543\n",
      "0                  cap-shape    1.328812\n",
      "8                 gill-color    1.230843\n",
      "5            gill-attachment    1.162319\n",
      "12    stalk-color-above-ring    1.144955\n",
      "6               gill-spacing    1.142727\n",
      "13    stalk-color-below-ring    1.091783\n",
      "17         spore-print-color    1.076877\n",
      "14                veil-color    0.463306\n"
     ]
    },
    {
     "data": {
      "image/png": "[encoded data removed]",
      "text/plain": [
       "<Figure size 1000x600 with 1 Axes>"
      ]
     },
     "metadata": {},
     "output_type": "display_data"
    }
   ],
   "source": [
    "xgb_importance = xgb_c.get_booster().get_score(importance_type='gain')  \n",
    "xgb_feature_importance_df = pd.DataFrame(list(xgb_importance.items()), columns=['Feature', 'Importance'])\n",
    "xgb_feature_importance_df = xgb_feature_importance_df.sort_values(by=\"Importance\", ascending=False)\n",
    "\n",
    "print(xgb_feature_importance_df)\n",
    "# Plot for XGBoost\n",
    "plt.figure(figsize=(10, 6))\n",
    "sns.barplot(x='Importance', y='Feature', data=xgb_feature_importance_df, palette=\"viridis\")\n",
    "plt.xlabel(\"Feature Importance (Gain)\")\n",
    "plt.ylabel(\"Features\")\n",
    "plt.title(\"XGBoost Feature Importance (Gain)\")\n",
    "plt.show()"
   ]
  },
  {
   "cell_type": "markdown",
   "id": "4727736f",
   "metadata": {
    "papermill": {
     "duration": 0.012366,
     "end_time": "2025-03-02T01:48:42.094069",
     "exception": false,
     "start_time": "2025-03-02T01:48:42.081703",
     "status": "completed"
    },
    "tags": []
   },
   "source": [
    "# Conclusion"
   ]
  },
  {
   "cell_type": "markdown",
   "id": "d7d28a06",
   "metadata": {
    "papermill": {
     "duration": 0.011964,
     "end_time": "2025-03-02T01:48:42.118277",
     "exception": false,
     "start_time": "2025-03-02T01:48:42.106313",
     "status": "completed"
    },
    "tags": []
   },
   "source": [
    "In this project, I implemented and evaluated XGBoost and Random Forest Classifiers for the objective of mushroom classification. In particular, I focused on feature importance to find the most important characteristics for mushroom hunters.\n",
    "\n",
    "\n",
    "Model Performance:\n",
    "My generated models had incredibly high accuracy, so high that I thought it was a mistake. To verify my models did not have overfitting issues, I performed cross validation on both models. For the XGBoost classifier, I even reshuffled the labels to ensure the model was working properly since it had 100% accuracy. The cross validation and reshuffling indicated that the models were working as intended. My hypothesis is that the dataset is very easy to model. It seems that running models with all the characteristics included yields very easy classification.\n",
    "\n",
    "\n",
    "Feature Importance: \n",
    "One key objective was to compare feature importance rankings across the models. This could be an indicator of the most important characteristics to look out for when mushroom hunting. Below are the top 5 features chosen by each technique.\n",
    "Random Forest Classifier: (odor, gill-size, gill-color, spore-print-color, ring-type). \n",
    "XGBoost Classifier: (stalk-shape, stalk-surface-above-ring, odor, stalk-surface-below-ring, gill-size)\n",
    "Chi-Squared Analysis: (ring-type, gill-size, gill-color, bruises, gill-spacing)\n",
    "\n",
    "There are definitely similarities between the three techniques. All three include gill-size, and other gill characteristics seem important too. I am surprised that odor is not included in the Chi-Squared top 5. I attribute the differences in the top 5 with the difference in the feature selection techniques. It feels like the Chi-Squared implementation is redundant, given that models use more robust selection techniques. \n",
    "\n",
    "\n",
    "The difference between the models' importance can be attributed to the way they measure feature importance and how the models are constructed. Overall both models performed exceptionally well at classifying mushrooms, perhaps too well. With the incredible level of accuracy, the models seem redundant. It seems that classifying mushrooms is too easy with this dataset. There is a lot of room for further improvements. I believe that removing certain features would be more interesting in regards to model creation. Also, I believe comparing these feature importance lists to a correlation heatmap could bring further insight. Continuing on with the trend of mushroom classification, gathering images of mushrooms for image classification could be more effective tool for mushroom hunting at large."
   ]
  }
 ],
 "metadata": {
  "kaggle": {
   "accelerator": "none",
   "dataSources": [
    {
     "datasetId": 478,
     "sourceId": 974,
     "sourceType": "datasetVersion"
    }
   ],
   "dockerImageVersionId": 30918,
   "isGpuEnabled": false,
   "isInternetEnabled": true,
   "language": "python",
   "sourceType": "notebook"
  },
  "kernelspec": {
   "display_name": "Python 3",
   "language": "python",
   "name": "python3"
  },
  "language_info": {
   "codemirror_mode": {
    "name": "ipython",
    "version": 3
   },
   "file_extension": ".py",
   "mimetype": "text/x-python",
   "name": "python",
   "nbconvert_exporter": "python",
   "pygments_lexer": "ipython3",
   "version": "3.10.12"
  },
  "papermill": {
   "default_parameters": {},
   "duration": 12.015539,
   "end_time": "2025-03-02T01:48:42.851697",
   "environment_variables": {},
   "exception": null,
   "input_path": "__notebook__.ipynb",
   "output_path": "__notebook__.ipynb",
   "parameters": {},
   "start_time": "2025-03-02T01:48:30.836158",
   "version": "2.6.0"
  }
 },
 "nbformat": 4,
 "nbformat_minor": 5
}
